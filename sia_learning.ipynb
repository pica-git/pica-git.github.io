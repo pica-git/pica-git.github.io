{
  "nbformat": 4,
  "nbformat_minor": 0,
  "metadata": {
    "colab": {
      "name": "sia_learning.ipynb",
      "provenance": [],
      "authorship_tag": "ABX9TyMiuf7uQ8YhlXYOpXGLYQzp",
      "include_colab_link": true
    },
    "kernelspec": {
      "name": "python3",
      "display_name": "Python 3"
    }
  },
  "cells": [
    {
      "cell_type": "markdown",
      "metadata": {
        "id": "view-in-github",
        "colab_type": "text"
      },
      "source": [
        "<a href=\"https://colab.research.google.com/github/pica-git/pica-git.github.io/blob/master/sia_learning.ipynb\" target=\"_parent\"><img src=\"https://colab.research.google.com/assets/colab-badge.svg\" alt=\"Open In Colab\"/></a>"
      ]
    },
    {
      "cell_type": "code",
      "metadata": {
        "id": "L3N9fSpHgaI-",
        "colab_type": "code",
        "colab": {
          "base_uri": "https://localhost:8080/",
          "height": 121
        },
        "outputId": "616d6a32-b146-4b59-99cc-7eb846ec8414"
      },
      "source": [
        "from google.colab import drive\n",
        "drive.mount('/content/gdrive')"
      ],
      "execution_count": 12,
      "outputs": [
        {
          "output_type": "stream",
          "text": [
            "Go to this URL in a browser: https://accounts.google.com/o/oauth2/auth?client_id=947318989803-6bn6qk8qdgf4n4g3pfee6491hc0brc4i.apps.googleusercontent.com&redirect_uri=urn%3aietf%3awg%3aoauth%3a2.0%3aoob&response_type=code&scope=email%20https%3a%2f%2fwww.googleapis.com%2fauth%2fdocs.test%20https%3a%2f%2fwww.googleapis.com%2fauth%2fdrive%20https%3a%2f%2fwww.googleapis.com%2fauth%2fdrive.photos.readonly%20https%3a%2f%2fwww.googleapis.com%2fauth%2fpeopleapi.readonly\n",
            "\n",
            "Enter your authorization code:\n",
            "··········\n",
            "Mounted at /content/gdrive\n"
          ],
          "name": "stdout"
        }
      ]
    },
    {
      "cell_type": "code",
      "metadata": {
        "id": "x7mwZaBlh6ko",
        "colab_type": "code",
        "colab": {
          "base_uri": "https://localhost:8080/",
          "height": 625
        },
        "outputId": "3ce8816a-2b73-4228-8d3f-905134541b97"
      },
      "source": [
        "!python \"gdrive/My Drive/Colab/AI/rbox_cnn-master/rbox_cnn/create_dataset.py\" --src_dir=\"gdrive/My Drive/Colab/AI/rbox_cnn-master/rbox_cnn\" --dst_path=\"gdrive/My Drive/Colab/AI/rbox_cnn-master/rbox_cnn/tfrecords\""
      ],
      "execution_count": 32,
      "outputs": [
        {
          "output_type": "stream",
          "text": [
            "WARNING:tensorflow:From gdrive/My Drive/Colab/AI/rbox_cnn-master/rbox_cnn/create_dataset.py:210: The name tf.python_io.TFRecordWriter is deprecated. Please use tf.io.TFRecordWriter instead.\n",
            "\n",
            "  2% 39/1593 [01:01<1:01:57,  2.39s/it]Traceback (most recent call last):\n",
            "  File \"gdrive/My Drive/Colab/AI/rbox_cnn-master/rbox_cnn/create_dataset.py\", line 294, in <module>\n",
            "    create_tfrecords(**vars(args))\n",
            "  File \"gdrive/My Drive/Colab/AI/rbox_cnn-master/rbox_cnn/create_dataset.py\", line 223, in create_tfrecords\n",
            "    image = imread(os.path.join(src_dir, 'images/', image_id))\n",
            "  File \"/usr/local/lib/python3.6/dist-packages/skimage/io/_io.py\", line 48, in imread\n",
            "    img = call_plugin('imread', fname, plugin=plugin, **plugin_args)\n",
            "  File \"/usr/local/lib/python3.6/dist-packages/skimage/io/manage_plugins.py\", line 210, in call_plugin\n",
            "    return func(*args, **kwargs)\n",
            "  File \"/usr/local/lib/python3.6/dist-packages/skimage/io/_plugins/imageio_plugin.py\", line 10, in imread\n",
            "    return np.asarray(imageio_imread(*args, **kwargs))\n",
            "  File \"/usr/local/lib/python3.6/dist-packages/imageio/core/functions.py\", line 221, in imread\n",
            "    reader = read(uri, format, \"i\", **kwargs)\n",
            "  File \"/usr/local/lib/python3.6/dist-packages/imageio/core/functions.py\", line 130, in get_reader\n",
            "    request = Request(uri, \"r\" + mode, **kwargs)\n",
            "  File \"/usr/local/lib/python3.6/dist-packages/imageio/core/request.py\", line 125, in __init__\n",
            "    self._parse_uri(uri)\n",
            "  File \"/usr/local/lib/python3.6/dist-packages/imageio/core/request.py\", line 273, in _parse_uri\n",
            "    raise FileNotFoundError(\"No such file: '%s'\" % fn)\n",
            "FileNotFoundError: No such file: '/content/gdrive/My Drive/Colab/AI/rbox_cnn-master/rbox_cnn/images/1038.png'\n",
            "Exception ignored in: <bound method tqdm.__del__ of   2% 39/1593 [01:01<1:01:57,  2.39s/it]>\n",
            "Traceback (most recent call last):\n",
            "  File \"/usr/local/lib/python3.6/dist-packages/tqdm/_tqdm.py\", line 931, in __del__\n",
            "    self.close()\n",
            "  File \"/usr/local/lib/python3.6/dist-packages/tqdm/_tqdm.py\", line 1133, in close\n",
            "    self._decr_instances(self)\n",
            "  File \"/usr/local/lib/python3.6/dist-packages/tqdm/_tqdm.py\", line 496, in _decr_instances\n",
            "    cls.monitor.exit()\n",
            "  File \"/usr/local/lib/python3.6/dist-packages/tqdm/_monitor.py\", line 52, in exit\n",
            "    self.join()\n",
            "  File \"/usr/lib/python3.6/threading.py\", line 1053, in join\n",
            "    raise RuntimeError(\"cannot join current thread\")\n",
            "RuntimeError: cannot join current thread\n"
          ],
          "name": "stdout"
        }
      ]
    },
    {
      "cell_type": "code",
      "metadata": {
        "id": "ozD4PVwwh-KR",
        "colab_type": "code",
        "colab": {}
      },
      "source": [
        ""
      ],
      "execution_count": 0,
      "outputs": []
    }
  ]
}